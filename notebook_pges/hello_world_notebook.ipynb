{
 "cells": [
  {
   "cell_type": "code",
   "execution_count": 15,
   "metadata": {
    "tags": [
     "parameters"
    ]
   },
   "outputs": [],
   "source": [
    "from typing import List, Dict\n",
    "\n",
    "a: int = 1337  # random note\n",
    "b: str = \"happy holidays!\"\n",
    "c: float = 111.222\n",
    "d: List[str] = [\"a\", \"b\", \"c\"]\n",
    "e: Dict[str, int] = {\n",
    "    \"x\": 1,\n",
    "    \"y\": 2,\n",
    "    \"z\": 3\n",
    "}\n",
    "f: \"enum\" = [\"yes\", \"no\", \"maybe so\"]  # testing enum stuff\n",
    "    \n",
    "# hysds specifications\n",
    "hysds_time_limit = 3600\n",
    "hysds_soft_time_limit = 3600\n",
    "hysds_disk_usage = \"1GB\"\n",
    "hysds_submission_type = \"iteration\"\n",
    "hysds_label = \"Hello world notebook PGE\""
   ]
  },
  {
   "cell_type": "code",
   "execution_count": 17,
   "metadata": {},
   "outputs": [
    {
     "name": "stdout",
     "output_type": "stream",
     "text": [
      "hello world!\n",
      "a: 1337 is type <class 'int'>\n",
      "b: hello world! is type <class 'str'>\n",
      "c: 111.222 is type <class 'float'>\n",
      "d: ['a', 'b', 'c'] is type <class 'list'>\n",
      "e: {'x': 1, 'y': 2, 'z': 3} is type <class 'dict'>\n",
      "f: [1, 2, 3] is type <class 'list'>\n"
     ]
    }
   ],
   "source": [
    "print(\"hello world!\")\n",
    "print(\"a: {} is type {}\".format(a, type(a)))\n",
    "print(\"b: {} is type {}\".format(b, type(b)))\n",
    "print(\"c: {} is type {}\".format(c, type(c)))\n",
    "print(\"d: {} is type {}\".format(d, type(d)))\n",
    "print(\"e: {} is type {}\".format(e, type(e)))\n",
    "print(\"f: {} is type {}\".format(f, type(f)))\n",
    "print(\"here is a new line\")"
   ]
  }
 ],
 "metadata": {
  "celltoolbar": "Tags",
  "kernelspec": {
   "display_name": "Python 3",
   "language": "python",
   "name": "python3"
  },
  "language_info": {
   "codemirror_mode": {
    "name": "ipython",
    "version": 3
   },
   "file_extension": ".py",
   "mimetype": "text/x-python",
   "name": "python",
   "nbconvert_exporter": "python",
   "pygments_lexer": "ipython3",
   "version": "3.7.7"
  }
 },
 "nbformat": 4,
 "nbformat_minor": 4
}
